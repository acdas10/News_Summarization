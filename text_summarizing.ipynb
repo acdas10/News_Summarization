{
 "cells": [
  {
   "cell_type": "markdown",
   "metadata": {},
   "source": [
    "# Text summarizing from a news portal using a link"
   ]
  },
  {
   "cell_type": "code",
   "execution_count": 1,
   "metadata": {
    "id": "PCIxUrFmkCWT"
   },
   "outputs": [],
   "source": [
    "import tkinter as tk\n",
    "import nltk\n",
    "from textblob import TextBlob\n",
    "from newspaper import Article"
   ]
  },
  {
   "cell_type": "markdown",
   "metadata": {},
   "source": [
    "### Creating the function"
   ]
  },
  {
   "cell_type": "code",
   "execution_count": 2,
   "metadata": {},
   "outputs": [],
   "source": [
    "def summarize():\n",
    "    url = utext.get('1.0', \"end\").strip()\n",
    "    article = Article(url)\n",
    "    article.download()\n",
    "    article.parse()\n",
    "    article.nlp()\n",
    "    \n",
    "    title.config(state = 'normal')\n",
    "    author.config(state = 'normal')\n",
    "    publication.config(state = 'normal')\n",
    "    summary.config(state = 'normal')\n",
    "    sentiment.config(state = 'normal')\n",
    "    \n",
    "    title.delete('1.0', 'end')\n",
    "    title.insert('1.0', article.title)\n",
    "    \n",
    "    author.delete('1.0', 'end')\n",
    "    author.insert('1.0', article.authors)\n",
    "    \n",
    "    publication.delete('1.0', 'end')\n",
    "    publication.insert('1.0', article.publish_date)\n",
    "    \n",
    "    summary.delete('1.0', 'end')\n",
    "    summary.insert('1.0', article.summary)\n",
    "    \n",
    "    analysis = TextBlob(article.text)\n",
    "    sentiment.delete('1.0', 'end')\n",
    "    sentiment.insert('1.0', f'Polarity:{analysis.polarity}, sentiment: {\"Positive\" if analysis.polarity > 0  else \"Negative\" if analysis.polarity < 0 else \"Neutral\"}')\n",
    "\n",
    "    title.config(state = 'disabled')\n",
    "    author.config(state = 'disabled')\n",
    "    publication.config(state = 'disabled')\n",
    "    summary.config(state = 'disabled')\n",
    "    sentiment.config(state = 'disabled')"
   ]
  },
  {
   "cell_type": "markdown",
   "metadata": {
    "id": "UFe5sQw5oa1z"
   },
   "source": [
    "### Creating the output fill"
   ]
  },
  {
   "cell_type": "code",
   "execution_count": 3,
   "metadata": {
    "colab": {
     "base_uri": "https://localhost:8080/",
     "height": 315
    },
    "id": "-BaHRn0zoayV",
    "outputId": "53e15d51-df94-44b3-cd23-b14243db3c48"
   },
   "outputs": [
    {
     "data": {
      "text/plain": [
       "''"
      ]
     },
     "execution_count": 3,
     "metadata": {},
     "output_type": "execute_result"
    }
   ],
   "source": [
    "display = tk.Tk()\n",
    "display.title(\"Make Your Summary\")\n",
    "display.geometry('1200x600')"
   ]
  },
  {
   "cell_type": "code",
   "execution_count": 4,
   "metadata": {},
   "outputs": [],
   "source": [
    "ulabel = tk.Label(display, text = 'Enter the link of news here')\n",
    "ulabel.pack()\n",
    "\n",
    "\n",
    "utext = tk.Text(display, height = 1, width = 140)\n",
    "utext.pack()"
   ]
  },
  {
   "cell_type": "code",
   "execution_count": 5,
   "metadata": {},
   "outputs": [],
   "source": [
    "button = tk.Button(display, text='Summarize', command = summarize)\n",
    "button.pack()"
   ]
  },
  {
   "cell_type": "code",
   "execution_count": 6,
   "metadata": {},
   "outputs": [],
   "source": [
    "tlabel = tk.Label(display, text = 'Title of the news')\n",
    "tlabel.pack()\n",
    "\n",
    "title = tk.Text(display, height = 1, width = 140)\n",
    "title.config(state = 'disabled', bg ='#FCCB90')\n",
    "title.pack()"
   ]
  },
  {
   "cell_type": "code",
   "execution_count": 7,
   "metadata": {},
   "outputs": [],
   "source": [
    "alabel = tk.Label(display, text = 'Author')\n",
    "alabel.pack()\n",
    "\n",
    "\n",
    "author = tk.Text(display, height = 1, width = 140)\n",
    "author.config(state = 'disabled', bg ='#FCCB90')\n",
    "author.pack()"
   ]
  },
  {
   "cell_type": "code",
   "execution_count": 8,
   "metadata": {},
   "outputs": [],
   "source": [
    "plabel = tk.Label(display, text = 'Date of published')\n",
    "plabel.pack()\n",
    "\n",
    "\n",
    "publication = tk.Text(display, height = 1, width = 140)\n",
    "publication.config(state = 'disabled', bg ='#FCCB90')\n",
    "publication.pack()"
   ]
  },
  {
   "cell_type": "code",
   "execution_count": 9,
   "metadata": {},
   "outputs": [],
   "source": [
    "slabel = tk.Label(display, text = 'Summary of the news')\n",
    "slabel.pack()\n",
    "\n",
    "\n",
    "summary = tk.Text(display, height = 15, width = 140)\n",
    "summary.config(state = 'disabled', bg ='#FCCB90')\n",
    "summary.pack()"
   ]
  },
  {
   "cell_type": "code",
   "execution_count": 10,
   "metadata": {},
   "outputs": [],
   "source": [
    "selabel = tk.Label(display, text = 'Is it positive or negative?')\n",
    "selabel.pack()\n",
    "\n",
    "\n",
    "sentiment = tk.Text(display, height = 1, width = 140)\n",
    "sentiment.config(state = 'disabled', bg ='#FCCB90')\n",
    "sentiment.pack()"
   ]
  },
  {
   "cell_type": "markdown",
   "metadata": {},
   "source": [
    "### Running the final output"
   ]
  },
  {
   "cell_type": "code",
   "execution_count": 11,
   "metadata": {
    "id": "brvPK5rGoav0"
   },
   "outputs": [
    {
     "name": "stderr",
     "output_type": "stream",
     "text": [
      "Exception in Tkinter callback\n",
      "Traceback (most recent call last):\n",
      "  File \"C:\\Users\\ashik\\anaconda3\\Lib\\tkinter\\__init__.py\", line 1948, in __call__\n",
      "    return self.func(*args)\n",
      "           ^^^^^^^^^^^^^^^^\n",
      "  File \"C:\\Users\\ashik\\AppData\\Local\\Temp\\ipykernel_3408\\3772419221.py\", line 21, in summarize\n",
      "    publication.insert('1.0', article.publish_date)\n",
      "  File \"C:\\Users\\ashik\\anaconda3\\Lib\\tkinter\\__init__.py\", line 3808, in insert\n",
      "    self.tk.call((self._w, 'insert', index, chars) + args)\n",
      "_tkinter.TclError: wrong # args: should be \".!text4 insert index chars ?tagList chars tagList ...?\"\n"
     ]
    }
   ],
   "source": [
    "display.mainloop()"
   ]
  }
 ],
 "metadata": {
  "colab": {
   "provenance": []
  },
  "kernelspec": {
   "display_name": "Python 3 (ipykernel)",
   "language": "python",
   "name": "python3"
  },
  "language_info": {
   "codemirror_mode": {
    "name": "ipython",
    "version": 3
   },
   "file_extension": ".py",
   "mimetype": "text/x-python",
   "name": "python",
   "nbconvert_exporter": "python",
   "pygments_lexer": "ipython3",
   "version": "3.11.4"
  }
 },
 "nbformat": 4,
 "nbformat_minor": 1
}
